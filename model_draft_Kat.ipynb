{
 "cells": [
  {
   "cell_type": "code",
   "execution_count": 45,
   "metadata": {},
   "outputs": [
    {
     "name": "stdout",
     "output_type": "stream",
     "text": [
      "          Cabin     Deck  Cabin_Num  Deck_Num\n",
      "0           NaN  Unknown          0       NaN\n",
      "1           C85        C         85       3.0\n",
      "2           NaN  Unknown          0       NaN\n",
      "3          C123        C        123       3.0\n",
      "4           NaN  Unknown          0       NaN\n",
      "5           NaN  Unknown          0       NaN\n",
      "6           E46        E         46       5.0\n",
      "7           NaN  Unknown          0       NaN\n",
      "8           NaN  Unknown          0       NaN\n",
      "9           NaN  Unknown          0       NaN\n",
      "10           G6        G          6       7.0\n",
      "11         C103        C        103       3.0\n",
      "12          NaN  Unknown          0       NaN\n",
      "13          NaN  Unknown          0       NaN\n",
      "14          NaN  Unknown          0       NaN\n",
      "15          NaN  Unknown          0       NaN\n",
      "16          NaN  Unknown          0       NaN\n",
      "17          NaN  Unknown          0       NaN\n",
      "18          NaN  Unknown          0       NaN\n",
      "19          NaN  Unknown          0       NaN\n",
      "20          NaN  Unknown          0       NaN\n",
      "21          D56        D         56       4.0\n",
      "22          NaN  Unknown          0       NaN\n",
      "23           A6        A          6       1.0\n",
      "24          NaN  Unknown          0       NaN\n",
      "25          NaN  Unknown          0       NaN\n",
      "26          NaN  Unknown          0       NaN\n",
      "27  C23 C25 C27        C         23       3.0\n",
      "28          NaN  Unknown          0       NaN\n",
      "29          NaN  Unknown          0       NaN\n",
      "30          NaN  Unknown          0       NaN\n",
      "31          B78        B         78       2.0\n",
      "32          NaN  Unknown          0       NaN\n",
      "33          NaN  Unknown          0       NaN\n",
      "34          NaN  Unknown          0       NaN\n",
      "35          NaN  Unknown          0       NaN\n",
      "36          NaN  Unknown          0       NaN\n",
      "37          NaN  Unknown          0       NaN\n",
      "38          NaN  Unknown          0       NaN\n",
      "39          NaN  Unknown          0       NaN\n",
      "40          NaN  Unknown          0       NaN\n",
      "41          NaN  Unknown          0       NaN\n",
      "42          NaN  Unknown          0       NaN\n",
      "43          NaN  Unknown          0       NaN\n",
      "44          NaN  Unknown          0       NaN\n",
      "45          NaN  Unknown          0       NaN\n",
      "46          NaN  Unknown          0       NaN\n",
      "47          NaN  Unknown          0       NaN\n",
      "48          NaN  Unknown          0       NaN\n",
      "49          NaN  Unknown          0       NaN\n"
     ]
    }
   ],
   "source": [
    "import pandas as pd\n",
    "\n",
    "df = pd.read_csv(\"train.csv\")\n",
    "\n",
    "# Extract the deck letters from the Cabin column\n",
    "df['Deck'] = df['Cabin'].str.extract(r'([A-Za-z])')\n",
    "\n",
    "# Extract the numerical part of the cabin (assuming it's always after the deck letter)\n",
    "df['Cabin_Num'] = df['Cabin'].str.extract(r'(\\d+)')\n",
    "\n",
    "# Replace missing values with a placeholder (e.g., 0) for numerical part of the cabin\n",
    "df['Cabin_Num'].fillna(0, inplace=True)\n",
    "df['Cabin_Num'] = df['Cabin_Num'].astype(int)\n",
    "\n",
    "# Replace missing values for the deck letter with 'Unknown'\n",
    "df['Deck'].fillna('Unknown', inplace=True)\n",
    "\n",
    "# Map each deck letter to a numerical value\n",
    "deck_mapping = {'A': 1, 'B': 2, 'C': 3, 'D': 4, 'E': 5, 'F': 6, 'G': 7, '': 0}\n",
    "\n",
    "# Create a new numerical column representing the deck values\n",
    "df['Deck_Num'] = df['Deck'].map(deck_mapping)\n",
    "\n",
    "# Show the DataFrame \n",
    "print(df[['Cabin', 'Deck', 'Cabin_Num', 'Deck_Num']].head(50))"
   ]
  }
 ],
 "metadata": {
  "kernelspec": {
   "display_name": "Python 3",
   "language": "python",
   "name": "python3"
  },
  "language_info": {
   "codemirror_mode": {
    "name": "ipython",
    "version": 3
   },
   "file_extension": ".py",
   "mimetype": "text/x-python",
   "name": "python",
   "nbconvert_exporter": "python",
   "pygments_lexer": "ipython3",
   "version": "3.12.0"
  }
 },
 "nbformat": 4,
 "nbformat_minor": 2
}

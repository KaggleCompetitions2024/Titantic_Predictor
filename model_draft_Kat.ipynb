{
 "cells": [
  {
   "cell_type": "code",
   "execution_count": 4,
   "metadata": {},
   "outputs": [
    {
     "name": "stdout",
     "output_type": "stream",
     "text": [
      "  Cabin     Deck  Deck_Num  Cabin_Num\n",
      "0   NaN  Unknown       0.0          0\n",
      "1   C85        C       3.0         85\n",
      "2   NaN  Unknown       0.0          0\n",
      "3  C123        C       3.0        123\n",
      "4   NaN  Unknown       0.0          0\n",
      "5   NaN  Unknown       0.0          0\n",
      "6   E46        E       5.0         46\n",
      "7   NaN  Unknown       0.0          0\n",
      "8   NaN  Unknown       0.0          0\n",
      "9   NaN  Unknown       0.0          0\n"
     ]
    }
   ],
   "source": [
    "# Cabin into numerical values \n",
    "# 1. Extract the first letter of the cabin\n",
    "# 2. Map the letter to a number\n",
    "import pandas as pd\n",
    "import numpy as np\n",
    "from sklearn.preprocessing import LabelEncoder\n",
    "\n",
    "# Load the data\n",
    "df = pd.read_csv('train.csv')\n",
    "\n",
    "# Extract the deck letters from the Cabin column\n",
    "df['Deck'] = df['Cabin'].str.extract(r'([A-Za-z])')\n",
    "\n",
    "# Extract the numerical part of the cabin (assuming it's always after the deck letter)\n",
    "df['Cabin_Num'] = df['Cabin'].str.extract(r'(\\d+)')\n",
    "\n",
    "# Replace missing values with a placeholder (e.g., 0) for numerical part of the cabin\n",
    "df['Cabin_Num'].fillna(0, inplace=True)\n",
    "df['Cabin_Num'] = df['Cabin_Num'].astype(int)\n",
    "\n",
    "# Replace missing values with a placeholder (e.g., 'Unknown')\n",
    "df['Deck'].fillna('Unknown', inplace=True)\n",
    "\n",
    "# Map the deck letters to integers\n",
    "deck_mapping = {'A': 1, 'B': 2, 'C': 3, 'D': 4, 'E': 5, 'F': 6, 'G': 7, 'Unknown': 0}\n",
    "\n",
    "# Create a new numerical column representing the deck values\n",
    "df['Deck_Num'] = df['Deck'].map(deck_mapping)\n",
    "\n",
    "# show the result\n",
    "print(df[['Cabin', 'Deck', 'Deck_Num', 'Cabin_Num']].head(10))"
   ]
  }
 ],
 "metadata": {
  "kernelspec": {
   "display_name": "Python 3",
   "language": "python",
   "name": "python3"
  },
  "language_info": {
   "codemirror_mode": {
    "name": "ipython",
    "version": 3
   },
   "file_extension": ".py",
   "mimetype": "text/x-python",
   "name": "python",
   "nbconvert_exporter": "python",
   "pygments_lexer": "ipython3",
   "version": "3.12.0"
  }
 },
 "nbformat": 4,
 "nbformat_minor": 2
}

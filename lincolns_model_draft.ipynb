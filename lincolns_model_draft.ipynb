{
 "cells": [
  {
   "cell_type": "code",
   "execution_count": 1,
   "metadata": {},
   "outputs": [],
   "source": [
    "import numpy as np\n",
    "import pandas as pd \n",
    "import os \n",
    "import tensorflow as tf\n",
    "import matplotlib.pyplot as plt\n",
    "from pathlib import Path"
   ]
  },
  {
   "cell_type": "code",
   "execution_count": 2,
   "metadata": {},
   "outputs": [
    {
     "name": "stdout",
     "output_type": "stream",
     "text": [
      "     PassengerId  Survived  Pclass  \\\n",
      "0              1         0       3   \n",
      "1              2         1       1   \n",
      "2              3         1       3   \n",
      "3              4         1       1   \n",
      "4              5         0       3   \n",
      "..           ...       ...     ...   \n",
      "886          887         0       2   \n",
      "887          888         1       1   \n",
      "888          889         0       3   \n",
      "889          890         1       1   \n",
      "890          891         0       3   \n",
      "\n",
      "                                                  Name     Sex   Age  SibSp  \\\n",
      "0                              Braund, Mr. Owen Harris    male  22.0      1   \n",
      "1    Cumings, Mrs. John Bradley (Florence Briggs Th...  female  38.0      1   \n",
      "2                               Heikkinen, Miss. Laina  female  26.0      0   \n",
      "3         Futrelle, Mrs. Jacques Heath (Lily May Peel)  female  35.0      1   \n",
      "4                             Allen, Mr. William Henry    male  35.0      0   \n",
      "..                                                 ...     ...   ...    ...   \n",
      "886                              Montvila, Rev. Juozas    male  27.0      0   \n",
      "887                       Graham, Miss. Margaret Edith  female  19.0      0   \n",
      "888           Johnston, Miss. Catherine Helen \"Carrie\"  female   NaN      1   \n",
      "889                              Behr, Mr. Karl Howell    male  26.0      0   \n",
      "890                                Dooley, Mr. Patrick    male  32.0      0   \n",
      "\n",
      "     Parch            Ticket     Fare Cabin Embarked  \n",
      "0        0         A/5 21171   7.2500   NaN        S  \n",
      "1        0          PC 17599  71.2833   C85        C  \n",
      "2        0  STON/O2. 3101282   7.9250   NaN        S  \n",
      "3        0            113803  53.1000  C123        S  \n",
      "4        0            373450   8.0500   NaN        S  \n",
      "..     ...               ...      ...   ...      ...  \n",
      "886      0            211536  13.0000   NaN        S  \n",
      "887      0            112053  30.0000   B42        S  \n",
      "888      2        W./C. 6607  23.4500   NaN        S  \n",
      "889      0            111369  30.0000  C148        C  \n",
      "890      0            370376   7.7500   NaN        Q  \n",
      "\n",
      "[891 rows x 12 columns]\n"
     ]
    }
   ],
   "source": [
    "\n",
    "current_dir = Path(os.getcwd())\n",
    "# construct relative path to csv file\n",
    "csv_file = current_dir.parent/'Titantic_Predictor'/'train.csv'\n",
    "# read csv file using pandas\n",
    "train_df = pd.read_csv(csv_file)\n",
    "print(train_df)"
   ]
  },
  {
   "cell_type": "code",
   "execution_count": 37,
   "metadata": {},
   "outputs": [
    {
     "name": "stdout",
     "output_type": "stream",
     "text": [
      "  Cabin_Letter  Cabin_Number  Cabin_Numeric_Letter\n",
      "0            N           0.0                     0\n",
      "1            C          85.0                     3\n",
      "2            N           0.0                     0\n",
      "3            C         123.0                     3\n",
      "4            N           0.0                     0\n"
     ]
    }
   ],
   "source": [
    "# imports training data \n",
    "df = pd.read_csv('train.csv')\n",
    "# Extracts the Cabin Letter using regex \n",
    "df['Cabin_Letter'] = train_df['Cabin'].str.extract(r'([A-Za-z]+)')\n",
    "# Fills cabin letter null values with 0 \n",
    "df['Cabin_Letter'].fillna(\"N\", inplace = True)\n",
    "# Extracts cabin number using regex\n",
    "df['Cabin_Number'] = train_df['Cabin'].str.extract(r'(\\d+)')\n",
    "# Fills in cabin number null values with 0\n",
    "# Converts cabin number values to numeric \n",
    "df['Cabin_Number'] = pd.to_numeric(df['Cabin_Number'], 'coerce').fillna(0)\n",
    "# Creates a dictionary to map each deck to a number\n",
    "letter_map = {'N': 0, 'A': 1, 'B': 2, 'C': 3, 'D': 4, 'E': 5, 'F': 6, 'G': 7, 'T': 8}\n",
    "\n",
    "df['Cabin_Numeric_Letter'] = df['Cabin_Letter'].map(letter_map)\n",
    "\n",
    "print(df[['Cabin_Letter', 'Cabin_Number', 'Cabin_Numeric_Letter']].head())"
   ]
  },
  {
   "cell_type": "code",
   "execution_count": 38,
   "metadata": {},
   "outputs": [
    {
     "name": "stdout",
     "output_type": "stream",
     "text": [
      "Cabin_Letter\n",
      "N               687\n",
      "C                59\n",
      "B                47\n",
      "D                33\n",
      "E                32\n",
      "A                15\n",
      "F                13\n",
      "G                 4\n",
      "T                 1\n",
      "Name: count, dtype: int64\n",
      "Cabin_Number\n",
      "0.0      691\n",
      "33.0       7\n",
      "6.0        6\n",
      "101.0      5\n",
      "20.0       5\n",
      "        ... \n",
      "111.0      1\n",
      "21.0       1\n",
      "12.0       1\n",
      "14.0       1\n",
      "148.0      1\n",
      "Name: count, Length: 93, dtype: int64\n",
      "Cabin_Numeric_Letter\n",
      "0    687\n",
      "3     59\n",
      "2     47\n",
      "4     33\n",
      "5     32\n",
      "1     15\n",
      "6     13\n",
      "7      4\n",
      "8      1\n",
      "Name: count, dtype: int64\n"
     ]
    }
   ],
   "source": [
    "print(df[['Cabin_Letter']].value_counts())\n",
    "print(df['Cabin_Number'].value_counts())\n"
   ]
  },
  {
   "cell_type": "code",
   "execution_count": 39,
   "metadata": {},
   "outputs": [
    {
     "name": "stdout",
     "output_type": "stream",
     "text": [
      "Cabin_Numeric_Letter\n",
      "0    687\n",
      "3     59\n",
      "2     47\n",
      "4     33\n",
      "5     32\n",
      "1     15\n",
      "6     13\n",
      "7      4\n",
      "8      1\n",
      "Name: count, dtype: int64\n"
     ]
    }
   ],
   "source": [
    "print(df['Cabin_Numeric_Letter'].value_counts())"
   ]
  }
 ],
 "metadata": {
  "kernelspec": {
   "display_name": "Python 3",
   "language": "python",
   "name": "python3"
  },
  "language_info": {
   "codemirror_mode": {
    "name": "ipython",
    "version": 3
   },
   "file_extension": ".py",
   "mimetype": "text/x-python",
   "name": "python",
   "nbconvert_exporter": "python",
   "pygments_lexer": "ipython3",
   "version": "3.11.5"
  }
 },
 "nbformat": 4,
 "nbformat_minor": 2
}
